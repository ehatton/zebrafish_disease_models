{
 "cells": [
  {
   "source": [
    "# Extracting data about zebrafish disease models from ZFIN\n",
    "\n",
    "Potentially interesting targets for UniProt annotation.\n",
    "\n",
    "Emma Hatton-Ellis. August 2018."
   ],
   "cell_type": "markdown",
   "metadata": {}
  },
  {
   "cell_type": "code",
   "execution_count": 1,
   "metadata": {},
   "outputs": [],
   "source": [
    "import pandas as pd"
   ]
  },
  {
   "source": [
    "The fish_model_disease.txt file provides [Disease Ontology](https://disease-ontology.org/) cross references and associated PubMed ids."
   ],
   "cell_type": "markdown",
   "metadata": {}
  },
  {
   "cell_type": "code",
   "execution_count": 2,
   "metadata": {},
   "outputs": [],
   "source": [
    "zfin_models = pd.read_csv('https://zfin.org/downloads/fish_model_disease.txt',\n",
    "                          sep='\\t',\n",
    "                          header=None,\n",
    "                          dtype=str,\n",
    "                          names=['zfin_fish_id', 'zfin_env_id', 'is_a_model', 'do_id', 'do_name', 'zfin_pub', 'pmid',\n",
    "                                 'evidence_code'])"
   ]
  },
  {
   "cell_type": "code",
   "execution_count": 3,
   "metadata": {},
   "outputs": [
    {
     "output_type": "execute_result",
     "data": {
      "text/plain": [
       "            zfin_fish_id       zfin_env_id  is_a_model         do_id  \\\n",
       "0   ZDB-FISH-150901-8233  ZDB-EXP-041102-1  is_a_model    DOID:13580   \n",
       "1  ZDB-FISH-150901-16512  ZDB-EXP-041102-1  is_a_model  DOID:0060468   \n",
       "2  ZDB-FISH-150901-21533  ZDB-EXP-041102-1  is_a_model     DOID:5230   \n",
       "3  ZDB-FISH-150901-21533  ZDB-EXP-041102-1  is_a_model     DOID:5230   \n",
       "4  ZDB-FISH-150901-24601  ZDB-EXP-041102-1  is_a_model     DOID:5295   \n",
       "\n",
       "                          do_name           zfin_pub      pmid  \\\n",
       "0                     cholestasis   ZDB-PUB-050711-9  16000385   \n",
       "1              Holt-Oram syndrome   ZDB-PUB-020913-3  12223419   \n",
       "2  hepatoerythropoietic porphyria  ZDB-PUB-981208-38   9806541   \n",
       "3  hepatoerythropoietic porphyria   ZDB-PUB-140325-4  24652768   \n",
       "4              intestinal disease  ZDB-PUB-151222-17  26685876   \n",
       "\n",
       "      evidence_code  \n",
       "0  TAS, ECO:0000304  \n",
       "1  TAS, ECO:0000304  \n",
       "2  TAS, ECO:0000304  \n",
       "3  TAS, ECO:0000304  \n",
       "4  TAS, ECO:0000304  "
      ],
      "text/html": "<div>\n<style scoped>\n    .dataframe tbody tr th:only-of-type {\n        vertical-align: middle;\n    }\n\n    .dataframe tbody tr th {\n        vertical-align: top;\n    }\n\n    .dataframe thead th {\n        text-align: right;\n    }\n</style>\n<table border=\"1\" class=\"dataframe\">\n  <thead>\n    <tr style=\"text-align: right;\">\n      <th></th>\n      <th>zfin_fish_id</th>\n      <th>zfin_env_id</th>\n      <th>is_a_model</th>\n      <th>do_id</th>\n      <th>do_name</th>\n      <th>zfin_pub</th>\n      <th>pmid</th>\n      <th>evidence_code</th>\n    </tr>\n  </thead>\n  <tbody>\n    <tr>\n      <th>0</th>\n      <td>ZDB-FISH-150901-8233</td>\n      <td>ZDB-EXP-041102-1</td>\n      <td>is_a_model</td>\n      <td>DOID:13580</td>\n      <td>cholestasis</td>\n      <td>ZDB-PUB-050711-9</td>\n      <td>16000385</td>\n      <td>TAS, ECO:0000304</td>\n    </tr>\n    <tr>\n      <th>1</th>\n      <td>ZDB-FISH-150901-16512</td>\n      <td>ZDB-EXP-041102-1</td>\n      <td>is_a_model</td>\n      <td>DOID:0060468</td>\n      <td>Holt-Oram syndrome</td>\n      <td>ZDB-PUB-020913-3</td>\n      <td>12223419</td>\n      <td>TAS, ECO:0000304</td>\n    </tr>\n    <tr>\n      <th>2</th>\n      <td>ZDB-FISH-150901-21533</td>\n      <td>ZDB-EXP-041102-1</td>\n      <td>is_a_model</td>\n      <td>DOID:5230</td>\n      <td>hepatoerythropoietic porphyria</td>\n      <td>ZDB-PUB-981208-38</td>\n      <td>9806541</td>\n      <td>TAS, ECO:0000304</td>\n    </tr>\n    <tr>\n      <th>3</th>\n      <td>ZDB-FISH-150901-21533</td>\n      <td>ZDB-EXP-041102-1</td>\n      <td>is_a_model</td>\n      <td>DOID:5230</td>\n      <td>hepatoerythropoietic porphyria</td>\n      <td>ZDB-PUB-140325-4</td>\n      <td>24652768</td>\n      <td>TAS, ECO:0000304</td>\n    </tr>\n    <tr>\n      <th>4</th>\n      <td>ZDB-FISH-150901-24601</td>\n      <td>ZDB-EXP-041102-1</td>\n      <td>is_a_model</td>\n      <td>DOID:5295</td>\n      <td>intestinal disease</td>\n      <td>ZDB-PUB-151222-17</td>\n      <td>26685876</td>\n      <td>TAS, ECO:0000304</td>\n    </tr>\n  </tbody>\n</table>\n</div>"
     },
     "metadata": {},
     "execution_count": 3
    }
   ],
   "source": [
    "zfin_models.head()"
   ]
  },
  {
   "cell_type": "code",
   "execution_count": 4,
   "metadata": {},
   "outputs": [
    {
     "output_type": "stream",
     "name": "stdout",
     "text": [
      "<class 'pandas.core.frame.DataFrame'>\nRangeIndex: 3056 entries, 0 to 3055\nData columns (total 8 columns):\n #   Column         Non-Null Count  Dtype \n---  ------         --------------  ----- \n 0   zfin_fish_id   1595 non-null   object\n 1   zfin_env_id    1595 non-null   object\n 2   is_a_model     1595 non-null   object\n 3   do_id          3056 non-null   object\n 4   do_name        3056 non-null   object\n 5   zfin_pub       3056 non-null   object\n 6   pmid           3054 non-null   object\n 7   evidence_code  3056 non-null   object\ndtypes: object(8)\nmemory usage: 191.1+ KB\n"
     ]
    }
   ],
   "source": [
    "zfin_models.info()"
   ]
  },
  {
   "source": [
    "The zfin_pubs.txt file contains complete information about the papers curated in the database including title and journal citation."
   ],
   "cell_type": "markdown",
   "metadata": {}
  },
  {
   "cell_type": "code",
   "execution_count": 21,
   "metadata": {},
   "outputs": [],
   "source": [
    "zfin_bib = pd.read_csv('https://zfin.org/downloads/zfinpubs.txt', sep='\\t', header=None,\n",
    "                       names=['zfin_pub', 'pmid', 'authors', 'title', 'journal', 'year', 'vol', 'pages'],\n",
    "                       dtype=str)"
   ]
  },
  {
   "cell_type": "code",
   "execution_count": 22,
   "metadata": {},
   "outputs": [
    {
     "output_type": "execute_result",
     "data": {
      "text/plain": [
       "            zfin_pub      pmid  \\\n",
       "0   ZDB-PUB-190613-8  31188077   \n",
       "1  ZDB-PUB-190127-23  30128619   \n",
       "2   ZDB-PUB-181107-8  30398377   \n",
       "3   ZDB-PUB-190516-6  31085211   \n",
       "4  ZDB-PUB-171204-49  29197232   \n",
       "\n",
       "                                             authors  \\\n",
       "0    Lee, M.S., Philippe, J., Katsanis, N., Zhou, W.   \n",
       "1                                          Galli, C.   \n",
       "2  Garcia, G.R., Shankar, P., Dunham, C.L., Garci...   \n",
       "3  Broening, H.W., La Du, J., Carr, G.J., Nash, J...   \n",
       "4  Pitt, J.A., Kozal, J.S., Jayasundara, N., Mass...   \n",
       "\n",
       "                                               title  \\\n",
       "0  Polyketide Synthase Plays a Conserved Role in ...   \n",
       "1  UC Davis Transgenic Animal Research Conference...   \n",
       "2  Signaling Events Downstream of AHR Activation ...   \n",
       "3  Determination of narcotic potency using a neur...   \n",
       "4  Uptake, tissue distribution, and toxicity of p...   \n",
       "\n",
       "                                       journal  year    vol    pages  \n",
       "0                                    Zebrafish  2019  16(4)  363-369  \n",
       "1                          Transgenic Research  2018     27  461-466  \n",
       "2            Environmental health perspectives  2018    126   117002  \n",
       "3                              Neurotoxicology  2019     74    67-73  \n",
       "4  Aquatic toxicology (Amsterdam, Netherlands)  2017    194  185-194  "
      ],
      "text/html": "<div>\n<style scoped>\n    .dataframe tbody tr th:only-of-type {\n        vertical-align: middle;\n    }\n\n    .dataframe tbody tr th {\n        vertical-align: top;\n    }\n\n    .dataframe thead th {\n        text-align: right;\n    }\n</style>\n<table border=\"1\" class=\"dataframe\">\n  <thead>\n    <tr style=\"text-align: right;\">\n      <th></th>\n      <th>zfin_pub</th>\n      <th>pmid</th>\n      <th>authors</th>\n      <th>title</th>\n      <th>journal</th>\n      <th>year</th>\n      <th>vol</th>\n      <th>pages</th>\n    </tr>\n  </thead>\n  <tbody>\n    <tr>\n      <th>0</th>\n      <td>ZDB-PUB-190613-8</td>\n      <td>31188077</td>\n      <td>Lee, M.S., Philippe, J., Katsanis, N., Zhou, W.</td>\n      <td>Polyketide Synthase Plays a Conserved Role in ...</td>\n      <td>Zebrafish</td>\n      <td>2019</td>\n      <td>16(4)</td>\n      <td>363-369</td>\n    </tr>\n    <tr>\n      <th>1</th>\n      <td>ZDB-PUB-190127-23</td>\n      <td>30128619</td>\n      <td>Galli, C.</td>\n      <td>UC Davis Transgenic Animal Research Conference...</td>\n      <td>Transgenic Research</td>\n      <td>2018</td>\n      <td>27</td>\n      <td>461-466</td>\n    </tr>\n    <tr>\n      <th>2</th>\n      <td>ZDB-PUB-181107-8</td>\n      <td>30398377</td>\n      <td>Garcia, G.R., Shankar, P., Dunham, C.L., Garci...</td>\n      <td>Signaling Events Downstream of AHR Activation ...</td>\n      <td>Environmental health perspectives</td>\n      <td>2018</td>\n      <td>126</td>\n      <td>117002</td>\n    </tr>\n    <tr>\n      <th>3</th>\n      <td>ZDB-PUB-190516-6</td>\n      <td>31085211</td>\n      <td>Broening, H.W., La Du, J., Carr, G.J., Nash, J...</td>\n      <td>Determination of narcotic potency using a neur...</td>\n      <td>Neurotoxicology</td>\n      <td>2019</td>\n      <td>74</td>\n      <td>67-73</td>\n    </tr>\n    <tr>\n      <th>4</th>\n      <td>ZDB-PUB-171204-49</td>\n      <td>29197232</td>\n      <td>Pitt, J.A., Kozal, J.S., Jayasundara, N., Mass...</td>\n      <td>Uptake, tissue distribution, and toxicity of p...</td>\n      <td>Aquatic toxicology (Amsterdam, Netherlands)</td>\n      <td>2017</td>\n      <td>194</td>\n      <td>185-194</td>\n    </tr>\n  </tbody>\n</table>\n</div>"
     },
     "metadata": {},
     "execution_count": 22
    }
   ],
   "source": [
    "zfin_bib.head()"
   ]
  },
  {
   "cell_type": "code",
   "execution_count": 23,
   "metadata": {},
   "outputs": [
    {
     "output_type": "execute_result",
     "data": {
      "text/plain": [
       "       pmid                                              title\n",
       "0  31188077  Polyketide Synthase Plays a Conserved Role in ...\n",
       "1  30128619  UC Davis Transgenic Animal Research Conference...\n",
       "2  30398377  Signaling Events Downstream of AHR Activation ...\n",
       "3  31085211  Determination of narcotic potency using a neur...\n",
       "4  29197232  Uptake, tissue distribution, and toxicity of p..."
      ],
      "text/html": "<div>\n<style scoped>\n    .dataframe tbody tr th:only-of-type {\n        vertical-align: middle;\n    }\n\n    .dataframe tbody tr th {\n        vertical-align: top;\n    }\n\n    .dataframe thead th {\n        text-align: right;\n    }\n</style>\n<table border=\"1\" class=\"dataframe\">\n  <thead>\n    <tr style=\"text-align: right;\">\n      <th></th>\n      <th>pmid</th>\n      <th>title</th>\n    </tr>\n  </thead>\n  <tbody>\n    <tr>\n      <th>0</th>\n      <td>31188077</td>\n      <td>Polyketide Synthase Plays a Conserved Role in ...</td>\n    </tr>\n    <tr>\n      <th>1</th>\n      <td>30128619</td>\n      <td>UC Davis Transgenic Animal Research Conference...</td>\n    </tr>\n    <tr>\n      <th>2</th>\n      <td>30398377</td>\n      <td>Signaling Events Downstream of AHR Activation ...</td>\n    </tr>\n    <tr>\n      <th>3</th>\n      <td>31085211</td>\n      <td>Determination of narcotic potency using a neur...</td>\n    </tr>\n    <tr>\n      <th>4</th>\n      <td>29197232</td>\n      <td>Uptake, tissue distribution, and toxicity of p...</td>\n    </tr>\n  </tbody>\n</table>\n</div>"
     },
     "metadata": {},
     "execution_count": 23
    }
   ],
   "source": [
    "zfin_bib[['pmid', 'title']].head()"
   ]
  },
  {
   "source": [
    "In the disease models table, we are mainly interested in the DO name and identifier, and the PubMed id."
   ],
   "cell_type": "markdown",
   "metadata": {}
  },
  {
   "cell_type": "code",
   "execution_count": 24,
   "metadata": {},
   "outputs": [
    {
     "output_type": "execute_result",
     "data": {
      "text/plain": [
       "            zfin_fish_id         do_id                         do_name  \\\n",
       "0   ZDB-FISH-150901-8233    DOID:13580                     cholestasis   \n",
       "1  ZDB-FISH-150901-16512  DOID:0060468              Holt-Oram syndrome   \n",
       "2  ZDB-FISH-150901-21533     DOID:5230  hepatoerythropoietic porphyria   \n",
       "3  ZDB-FISH-150901-21533     DOID:5230  hepatoerythropoietic porphyria   \n",
       "4  ZDB-FISH-150901-24601     DOID:5295              intestinal disease   \n",
       "\n",
       "       pmid  \n",
       "0  16000385  \n",
       "1  12223419  \n",
       "2   9806541  \n",
       "3  24652768  \n",
       "4  26685876  "
      ],
      "text/html": "<div>\n<style scoped>\n    .dataframe tbody tr th:only-of-type {\n        vertical-align: middle;\n    }\n\n    .dataframe tbody tr th {\n        vertical-align: top;\n    }\n\n    .dataframe thead th {\n        text-align: right;\n    }\n</style>\n<table border=\"1\" class=\"dataframe\">\n  <thead>\n    <tr style=\"text-align: right;\">\n      <th></th>\n      <th>zfin_fish_id</th>\n      <th>do_id</th>\n      <th>do_name</th>\n      <th>pmid</th>\n    </tr>\n  </thead>\n  <tbody>\n    <tr>\n      <th>0</th>\n      <td>ZDB-FISH-150901-8233</td>\n      <td>DOID:13580</td>\n      <td>cholestasis</td>\n      <td>16000385</td>\n    </tr>\n    <tr>\n      <th>1</th>\n      <td>ZDB-FISH-150901-16512</td>\n      <td>DOID:0060468</td>\n      <td>Holt-Oram syndrome</td>\n      <td>12223419</td>\n    </tr>\n    <tr>\n      <th>2</th>\n      <td>ZDB-FISH-150901-21533</td>\n      <td>DOID:5230</td>\n      <td>hepatoerythropoietic porphyria</td>\n      <td>9806541</td>\n    </tr>\n    <tr>\n      <th>3</th>\n      <td>ZDB-FISH-150901-21533</td>\n      <td>DOID:5230</td>\n      <td>hepatoerythropoietic porphyria</td>\n      <td>24652768</td>\n    </tr>\n    <tr>\n      <th>4</th>\n      <td>ZDB-FISH-150901-24601</td>\n      <td>DOID:5295</td>\n      <td>intestinal disease</td>\n      <td>26685876</td>\n    </tr>\n  </tbody>\n</table>\n</div>"
     },
     "metadata": {},
     "execution_count": 24
    }
   ],
   "source": [
    "zfin_models[['zfin_fish_id', 'do_id', 'do_name', 'pmid']].head()"
   ]
  },
  {
   "source": [
    "Merge the bibliography with relevant columns from the disease models dataframe."
   ],
   "cell_type": "markdown",
   "metadata": {}
  },
  {
   "cell_type": "code",
   "execution_count": 25,
   "metadata": {},
   "outputs": [],
   "source": [
    "zf = zfin_models[['zfin_fish_id', 'do_id', 'do_name', 'pmid']].merge(zfin_bib[['zfin_pub', 'pmid', 'title']], on='pmid')"
   ]
  },
  {
   "cell_type": "code",
   "execution_count": 31,
   "metadata": {},
   "outputs": [
    {
     "output_type": "execute_result",
     "data": {
      "text/plain": [
       "            zfin_fish_id         do_id              do_name      pmid  \\\n",
       "0   ZDB-FISH-150901-8233    DOID:13580          cholestasis  16000385   \n",
       "1  ZDB-FISH-150901-22931     DOID:9452  fatty liver disease  16000385   \n",
       "2  ZDB-FISH-150901-14732      DOID:899     choledochal cyst  16000385   \n",
       "3  ZDB-FISH-150901-16512  DOID:0060468   Holt-Oram syndrome  12223419   \n",
       "4  ZDB-FISH-150901-12774  DOID:0060468   Holt-Oram syndrome  12223419   \n",
       "\n",
       "           zfin_pub                                              title  \n",
       "0  ZDB-PUB-050711-9  A genetic screen in zebrafish identifies the m...  \n",
       "1  ZDB-PUB-050711-9  A genetic screen in zebrafish identifies the m...  \n",
       "2  ZDB-PUB-050711-9  A genetic screen in zebrafish identifies the m...  \n",
       "3  ZDB-PUB-020913-3  The heartstrings mutation in zebrafish causes ...  \n",
       "4  ZDB-PUB-020913-3  The heartstrings mutation in zebrafish causes ...  "
      ],
      "text/html": "<div>\n<style scoped>\n    .dataframe tbody tr th:only-of-type {\n        vertical-align: middle;\n    }\n\n    .dataframe tbody tr th {\n        vertical-align: top;\n    }\n\n    .dataframe thead th {\n        text-align: right;\n    }\n</style>\n<table border=\"1\" class=\"dataframe\">\n  <thead>\n    <tr style=\"text-align: right;\">\n      <th></th>\n      <th>zfin_fish_id</th>\n      <th>do_id</th>\n      <th>do_name</th>\n      <th>pmid</th>\n      <th>zfin_pub</th>\n      <th>title</th>\n    </tr>\n  </thead>\n  <tbody>\n    <tr>\n      <th>0</th>\n      <td>ZDB-FISH-150901-8233</td>\n      <td>DOID:13580</td>\n      <td>cholestasis</td>\n      <td>16000385</td>\n      <td>ZDB-PUB-050711-9</td>\n      <td>A genetic screen in zebrafish identifies the m...</td>\n    </tr>\n    <tr>\n      <th>1</th>\n      <td>ZDB-FISH-150901-22931</td>\n      <td>DOID:9452</td>\n      <td>fatty liver disease</td>\n      <td>16000385</td>\n      <td>ZDB-PUB-050711-9</td>\n      <td>A genetic screen in zebrafish identifies the m...</td>\n    </tr>\n    <tr>\n      <th>2</th>\n      <td>ZDB-FISH-150901-14732</td>\n      <td>DOID:899</td>\n      <td>choledochal cyst</td>\n      <td>16000385</td>\n      <td>ZDB-PUB-050711-9</td>\n      <td>A genetic screen in zebrafish identifies the m...</td>\n    </tr>\n    <tr>\n      <th>3</th>\n      <td>ZDB-FISH-150901-16512</td>\n      <td>DOID:0060468</td>\n      <td>Holt-Oram syndrome</td>\n      <td>12223419</td>\n      <td>ZDB-PUB-020913-3</td>\n      <td>The heartstrings mutation in zebrafish causes ...</td>\n    </tr>\n    <tr>\n      <th>4</th>\n      <td>ZDB-FISH-150901-12774</td>\n      <td>DOID:0060468</td>\n      <td>Holt-Oram syndrome</td>\n      <td>12223419</td>\n      <td>ZDB-PUB-020913-3</td>\n      <td>The heartstrings mutation in zebrafish causes ...</td>\n    </tr>\n  </tbody>\n</table>\n</div>"
     },
     "metadata": {},
     "execution_count": 31
    }
   ],
   "source": [
    "zf.head()"
   ]
  },
  {
   "source": [
    "To map gene symbols to the disease models, we need the gene_publication.txt mapping table."
   ],
   "cell_type": "markdown",
   "metadata": {}
  },
  {
   "cell_type": "code",
   "execution_count": 33,
   "metadata": {},
   "outputs": [],
   "source": [
    "zfin_gene_pub = pd.read_csv('https://zfin.org/downloads/gene_publication.txt',\n",
    "                            sep='\\t',\n",
    "                            dtype=str,\n",
    "                            header=None,\n",
    "                            names=['gene', 'gene_id', 'zfin_pub', 'pub_type', 'pmid'])"
   ]
  },
  {
   "cell_type": "code",
   "execution_count": 34,
   "metadata": {},
   "outputs": [
    {
     "output_type": "execute_result",
     "data": {
      "text/plain": [
       "         gene              gene_id          zfin_pub         pub_type  \\\n",
       "0       panx3  ZDB-GENE-091204-114  ZDB-PUB-170525-1  Data Submission   \n",
       "1  tradv3.0.4  ZDB-GENE-170601-127  ZDB-PUB-110330-1         Curation   \n",
       "2      fgfr1a  ZDB-GENE-980526-255  ZDB-PUB-181119-1          Journal   \n",
       "3      asb12b   ZDB-GENE-040822-25  ZDB-PUB-061101-1         Curation   \n",
       "4       rrm2b  ZDB-GENE-030616-614  ZDB-PUB-130213-1         Curation   \n",
       "\n",
       "       pmid  \n",
       "0       NaN  \n",
       "1  21873635  \n",
       "2  30447699  \n",
       "3       NaN  \n",
       "4       NaN  "
      ],
      "text/html": "<div>\n<style scoped>\n    .dataframe tbody tr th:only-of-type {\n        vertical-align: middle;\n    }\n\n    .dataframe tbody tr th {\n        vertical-align: top;\n    }\n\n    .dataframe thead th {\n        text-align: right;\n    }\n</style>\n<table border=\"1\" class=\"dataframe\">\n  <thead>\n    <tr style=\"text-align: right;\">\n      <th></th>\n      <th>gene</th>\n      <th>gene_id</th>\n      <th>zfin_pub</th>\n      <th>pub_type</th>\n      <th>pmid</th>\n    </tr>\n  </thead>\n  <tbody>\n    <tr>\n      <th>0</th>\n      <td>panx3</td>\n      <td>ZDB-GENE-091204-114</td>\n      <td>ZDB-PUB-170525-1</td>\n      <td>Data Submission</td>\n      <td>NaN</td>\n    </tr>\n    <tr>\n      <th>1</th>\n      <td>tradv3.0.4</td>\n      <td>ZDB-GENE-170601-127</td>\n      <td>ZDB-PUB-110330-1</td>\n      <td>Curation</td>\n      <td>21873635</td>\n    </tr>\n    <tr>\n      <th>2</th>\n      <td>fgfr1a</td>\n      <td>ZDB-GENE-980526-255</td>\n      <td>ZDB-PUB-181119-1</td>\n      <td>Journal</td>\n      <td>30447699</td>\n    </tr>\n    <tr>\n      <th>3</th>\n      <td>asb12b</td>\n      <td>ZDB-GENE-040822-25</td>\n      <td>ZDB-PUB-061101-1</td>\n      <td>Curation</td>\n      <td>NaN</td>\n    </tr>\n    <tr>\n      <th>4</th>\n      <td>rrm2b</td>\n      <td>ZDB-GENE-030616-614</td>\n      <td>ZDB-PUB-130213-1</td>\n      <td>Curation</td>\n      <td>NaN</td>\n    </tr>\n  </tbody>\n</table>\n</div>"
     },
     "metadata": {},
     "execution_count": 34
    }
   ],
   "source": [
    "zfin_gene_pub.head()"
   ]
  },
  {
   "source": [
    "Merge the gene mapping table with the previously generated dataframe."
   ],
   "cell_type": "markdown",
   "metadata": {}
  },
  {
   "cell_type": "code",
   "execution_count": 35,
   "metadata": {},
   "outputs": [],
   "source": [
    "zfin_disease = zf.merge(zfin_gene_pub[['gene', 'zfin_pub']], on='zfin_pub')"
   ]
  },
  {
   "cell_type": "code",
   "execution_count": 37,
   "metadata": {},
   "outputs": [
    {
     "output_type": "stream",
     "name": "stdout",
     "text": [
      "<class 'pandas.core.frame.DataFrame'>\nInt64Index: 19105 entries, 0 to 19104\nData columns (total 7 columns):\n #   Column        Non-Null Count  Dtype \n---  ------        --------------  ----- \n 0   zfin_fish_id  12461 non-null  object\n 1   do_id         19105 non-null  object\n 2   do_name       19105 non-null  object\n 3   pmid          18393 non-null  object\n 4   zfin_pub      19105 non-null  object\n 5   title         19105 non-null  object\n 6   gene          19105 non-null  object\ndtypes: object(7)\nmemory usage: 1.2+ MB\n"
     ]
    }
   ],
   "source": [
    "zfin_disease.info()"
   ]
  },
  {
   "cell_type": "code",
   "execution_count": 38,
   "metadata": {},
   "outputs": [
    {
     "output_type": "execute_result",
     "data": {
      "text/plain": [
       "           zfin_fish_id       do_id      do_name      pmid          zfin_pub  \\\n",
       "0  ZDB-FISH-150901-8233  DOID:13580  cholestasis  16000385  ZDB-PUB-050711-9   \n",
       "1  ZDB-FISH-150901-8233  DOID:13580  cholestasis  16000385  ZDB-PUB-050711-9   \n",
       "2  ZDB-FISH-150901-8233  DOID:13580  cholestasis  16000385  ZDB-PUB-050711-9   \n",
       "3  ZDB-FISH-150901-8233  DOID:13580  cholestasis  16000385  ZDB-PUB-050711-9   \n",
       "4  ZDB-FISH-150901-8233  DOID:13580  cholestasis  16000385  ZDB-PUB-050711-9   \n",
       "\n",
       "                                               title      gene  \n",
       "0  A genetic screen in zebrafish identifies the m...  trappc11  \n",
       "1  A genetic screen in zebrafish identifies the m...     vps18  \n",
       "2  A genetic screen in zebrafish identifies the m...     tubg1  \n",
       "3  A genetic screen in zebrafish identifies the m...     sox9a  \n",
       "4  A genetic screen in zebrafish identifies the m...     thoc2  "
      ],
      "text/html": "<div>\n<style scoped>\n    .dataframe tbody tr th:only-of-type {\n        vertical-align: middle;\n    }\n\n    .dataframe tbody tr th {\n        vertical-align: top;\n    }\n\n    .dataframe thead th {\n        text-align: right;\n    }\n</style>\n<table border=\"1\" class=\"dataframe\">\n  <thead>\n    <tr style=\"text-align: right;\">\n      <th></th>\n      <th>zfin_fish_id</th>\n      <th>do_id</th>\n      <th>do_name</th>\n      <th>pmid</th>\n      <th>zfin_pub</th>\n      <th>title</th>\n      <th>gene</th>\n    </tr>\n  </thead>\n  <tbody>\n    <tr>\n      <th>0</th>\n      <td>ZDB-FISH-150901-8233</td>\n      <td>DOID:13580</td>\n      <td>cholestasis</td>\n      <td>16000385</td>\n      <td>ZDB-PUB-050711-9</td>\n      <td>A genetic screen in zebrafish identifies the m...</td>\n      <td>trappc11</td>\n    </tr>\n    <tr>\n      <th>1</th>\n      <td>ZDB-FISH-150901-8233</td>\n      <td>DOID:13580</td>\n      <td>cholestasis</td>\n      <td>16000385</td>\n      <td>ZDB-PUB-050711-9</td>\n      <td>A genetic screen in zebrafish identifies the m...</td>\n      <td>vps18</td>\n    </tr>\n    <tr>\n      <th>2</th>\n      <td>ZDB-FISH-150901-8233</td>\n      <td>DOID:13580</td>\n      <td>cholestasis</td>\n      <td>16000385</td>\n      <td>ZDB-PUB-050711-9</td>\n      <td>A genetic screen in zebrafish identifies the m...</td>\n      <td>tubg1</td>\n    </tr>\n    <tr>\n      <th>3</th>\n      <td>ZDB-FISH-150901-8233</td>\n      <td>DOID:13580</td>\n      <td>cholestasis</td>\n      <td>16000385</td>\n      <td>ZDB-PUB-050711-9</td>\n      <td>A genetic screen in zebrafish identifies the m...</td>\n      <td>sox9a</td>\n    </tr>\n    <tr>\n      <th>4</th>\n      <td>ZDB-FISH-150901-8233</td>\n      <td>DOID:13580</td>\n      <td>cholestasis</td>\n      <td>16000385</td>\n      <td>ZDB-PUB-050711-9</td>\n      <td>A genetic screen in zebrafish identifies the m...</td>\n      <td>thoc2</td>\n    </tr>\n  </tbody>\n</table>\n</div>"
     },
     "metadata": {},
     "execution_count": 38
    }
   ],
   "source": [
    "zfin_disease.head()"
   ]
  },
  {
   "cell_type": "code",
   "execution_count": 39,
   "metadata": {},
   "outputs": [
    {
     "output_type": "execute_result",
     "data": {
      "text/plain": [
       "4842"
      ]
     },
     "metadata": {},
     "execution_count": 39
    }
   ],
   "source": [
    "zfin_disease.gene.nunique()"
   ]
  },
  {
   "cell_type": "code",
   "execution_count": 40,
   "metadata": {},
   "outputs": [
    {
     "output_type": "execute_result",
     "data": {
      "text/plain": [
       "                                                    zfin_fish_id  do_id  \\\n",
       "title                                                                     \n",
       "&#x3b3;-Aminobutyric acid receptor alpha 1 subu...            22     22   \n",
       "3-ketodihydrosphingosine reductase mutation ind...           104    104   \n",
       "<i>BMI1</i> Drives Metastasis of Prostate Cance...             0      1   \n",
       "<i>EXTL3</i> mutations cause skeletal dysplasia...             0      2   \n",
       "<i>FLNC</i> Gene Splice Mutations Cause Dilated...             3      6   \n",
       "...                                                          ...    ...   \n",
       "tp53-dependent and independent signaling underl...             6      6   \n",
       "trappc11 is required for protein glycosylation ...            34     34   \n",
       "α-COP binding to the survival motor neuron prot...             1      1   \n",
       "α5β1 integrin recycling promotes Arp2/3-indepen...             2      4   \n",
       "β1 integrin inhibition elicits a prometastatic ...             0      1   \n",
       "\n",
       "                                                    do_name  pmid  zfin_pub  \\\n",
       "title                                                                         \n",
       "&#x3b3;-Aminobutyric acid receptor alpha 1 subu...       22    22        22   \n",
       "3-ketodihydrosphingosine reductase mutation ind...      104   104       104   \n",
       "<i>BMI1</i> Drives Metastasis of Prostate Cance...        1     1         1   \n",
       "<i>EXTL3</i> mutations cause skeletal dysplasia...        2     2         2   \n",
       "<i>FLNC</i> Gene Splice Mutations Cause Dilated...        6     6         6   \n",
       "...                                                     ...   ...       ...   \n",
       "tp53-dependent and independent signaling underl...        6     6         6   \n",
       "trappc11 is required for protein glycosylation ...       34    34        34   \n",
       "α-COP binding to the survival motor neuron prot...        1     1         1   \n",
       "α5β1 integrin recycling promotes Arp2/3-indepen...        4     4         4   \n",
       "β1 integrin inhibition elicits a prometastatic ...        1     1         1   \n",
       "\n",
       "                                                    gene  \n",
       "title                                                     \n",
       "&#x3b3;-Aminobutyric acid receptor alpha 1 subu...    22  \n",
       "3-ketodihydrosphingosine reductase mutation ind...   104  \n",
       "<i>BMI1</i> Drives Metastasis of Prostate Cance...     1  \n",
       "<i>EXTL3</i> mutations cause skeletal dysplasia...     2  \n",
       "<i>FLNC</i> Gene Splice Mutations Cause Dilated...     6  \n",
       "...                                                  ...  \n",
       "tp53-dependent and independent signaling underl...     6  \n",
       "trappc11 is required for protein glycosylation ...    34  \n",
       "α-COP binding to the survival motor neuron prot...     1  \n",
       "α5β1 integrin recycling promotes Arp2/3-indepen...     4  \n",
       "β1 integrin inhibition elicits a prometastatic ...     1  \n",
       "\n",
       "[1890 rows x 6 columns]"
      ],
      "text/html": "<div>\n<style scoped>\n    .dataframe tbody tr th:only-of-type {\n        vertical-align: middle;\n    }\n\n    .dataframe tbody tr th {\n        vertical-align: top;\n    }\n\n    .dataframe thead th {\n        text-align: right;\n    }\n</style>\n<table border=\"1\" class=\"dataframe\">\n  <thead>\n    <tr style=\"text-align: right;\">\n      <th></th>\n      <th>zfin_fish_id</th>\n      <th>do_id</th>\n      <th>do_name</th>\n      <th>pmid</th>\n      <th>zfin_pub</th>\n      <th>gene</th>\n    </tr>\n    <tr>\n      <th>title</th>\n      <th></th>\n      <th></th>\n      <th></th>\n      <th></th>\n      <th></th>\n      <th></th>\n    </tr>\n  </thead>\n  <tbody>\n    <tr>\n      <th>&amp;#x3b3;-Aminobutyric acid receptor alpha 1 subunit loss of function causes genetic generalized epilepsy by impairing inhibitory network neurodevelopment</th>\n      <td>22</td>\n      <td>22</td>\n      <td>22</td>\n      <td>22</td>\n      <td>22</td>\n      <td>22</td>\n    </tr>\n    <tr>\n      <th>3-ketodihydrosphingosine reductase mutation induces steatosis and hepatic injury in zebrafish</th>\n      <td>104</td>\n      <td>104</td>\n      <td>104</td>\n      <td>104</td>\n      <td>104</td>\n      <td>104</td>\n    </tr>\n    <tr>\n      <th>&lt;i&gt;BMI1&lt;/i&gt; Drives Metastasis of Prostate Cancer in Caucasian and African-American Men and Is A Potential Therapeutic Target: Hypothesis Tested in Race-specific Models.</th>\n      <td>0</td>\n      <td>1</td>\n      <td>1</td>\n      <td>1</td>\n      <td>1</td>\n      <td>1</td>\n    </tr>\n    <tr>\n      <th>&lt;i&gt;EXTL3&lt;/i&gt; mutations cause skeletal dysplasia, immune deficiency, and developmental delay.</th>\n      <td>0</td>\n      <td>2</td>\n      <td>2</td>\n      <td>2</td>\n      <td>2</td>\n      <td>2</td>\n    </tr>\n    <tr>\n      <th>&lt;i&gt;FLNC&lt;/i&gt; Gene Splice Mutations Cause Dilated Cardiomyopathy.</th>\n      <td>3</td>\n      <td>6</td>\n      <td>6</td>\n      <td>6</td>\n      <td>6</td>\n      <td>6</td>\n    </tr>\n    <tr>\n      <th>...</th>\n      <td>...</td>\n      <td>...</td>\n      <td>...</td>\n      <td>...</td>\n      <td>...</td>\n      <td>...</td>\n    </tr>\n    <tr>\n      <th>tp53-dependent and independent signaling underlies the pathogenesis and possible prevention of Acrofacial Dysostosis - Cincinnati type</th>\n      <td>6</td>\n      <td>6</td>\n      <td>6</td>\n      <td>6</td>\n      <td>6</td>\n      <td>6</td>\n    </tr>\n    <tr>\n      <th>trappc11 is required for protein glycosylation in zebrafish and humans</th>\n      <td>34</td>\n      <td>34</td>\n      <td>34</td>\n      <td>34</td>\n      <td>34</td>\n      <td>34</td>\n    </tr>\n    <tr>\n      <th>α-COP binding to the survival motor neuron protein SMN is required for neuronal process outgrowth</th>\n      <td>1</td>\n      <td>1</td>\n      <td>1</td>\n      <td>1</td>\n      <td>1</td>\n      <td>1</td>\n    </tr>\n    <tr>\n      <th>α5β1 integrin recycling promotes Arp2/3-independent cancer cell invasion via the formin FHOD3</th>\n      <td>2</td>\n      <td>4</td>\n      <td>4</td>\n      <td>4</td>\n      <td>4</td>\n      <td>4</td>\n    </tr>\n    <tr>\n      <th>β1 integrin inhibition elicits a prometastatic switch through the TGFβ-miR-200-ZEB network in E-cadherin-positive triple-negative breast cancer.</th>\n      <td>0</td>\n      <td>1</td>\n      <td>1</td>\n      <td>1</td>\n      <td>1</td>\n      <td>1</td>\n    </tr>\n  </tbody>\n</table>\n<p>1890 rows × 6 columns</p>\n</div>"
     },
     "metadata": {},
     "execution_count": 40
    }
   ],
   "source": [
    "zfin_disease.groupby('title').count()"
   ]
  },
  {
   "cell_type": "code",
   "execution_count": 89,
   "metadata": {},
   "outputs": [
    {
     "data": {
      "text/html": [
       "<div>\n",
       "<style>\n",
       "    .dataframe thead tr:only-child th {\n",
       "        text-align: right;\n",
       "    }\n",
       "\n",
       "    .dataframe thead th {\n",
       "        text-align: left;\n",
       "    }\n",
       "\n",
       "    .dataframe tbody tr th {\n",
       "        vertical-align: top;\n",
       "    }\n",
       "</style>\n",
       "<table border=\"1\" class=\"dataframe\">\n",
       "  <thead>\n",
       "    <tr style=\"text-align: right;\">\n",
       "      <th></th>\n",
       "      <th>zfin_fish_id</th>\n",
       "      <th>do_id</th>\n",
       "      <th>do_name</th>\n",
       "      <th>pmid</th>\n",
       "      <th>zfin_pub</th>\n",
       "      <th>title</th>\n",
       "      <th>gene</th>\n",
       "    </tr>\n",
       "  </thead>\n",
       "  <tbody>\n",
       "    <tr>\n",
       "      <th>2369</th>\n",
       "      <td>ZDB-FISH-150901-8303</td>\n",
       "      <td>DOID:450</td>\n",
       "      <td>myotonic disease</td>\n",
       "      <td>21303839</td>\n",
       "      <td>ZDB-PUB-110214-19</td>\n",
       "      <td>Zebrafish deficient for Muscleblind-like 2 exh...</td>\n",
       "      <td>clcn1b</td>\n",
       "    </tr>\n",
       "    <tr>\n",
       "      <th>2370</th>\n",
       "      <td>ZDB-FISH-150901-8303</td>\n",
       "      <td>DOID:450</td>\n",
       "      <td>myotonic disease</td>\n",
       "      <td>21303839</td>\n",
       "      <td>ZDB-PUB-110214-19</td>\n",
       "      <td>Zebrafish deficient for Muscleblind-like 2 exh...</td>\n",
       "      <td>mbnl1</td>\n",
       "    </tr>\n",
       "    <tr>\n",
       "      <th>2371</th>\n",
       "      <td>ZDB-FISH-150901-8303</td>\n",
       "      <td>DOID:450</td>\n",
       "      <td>myotonic disease</td>\n",
       "      <td>21303839</td>\n",
       "      <td>ZDB-PUB-110214-19</td>\n",
       "      <td>Zebrafish deficient for Muscleblind-like 2 exh...</td>\n",
       "      <td>mbnl2</td>\n",
       "    </tr>\n",
       "    <tr>\n",
       "      <th>2372</th>\n",
       "      <td>ZDB-FISH-150901-8303</td>\n",
       "      <td>DOID:450</td>\n",
       "      <td>myotonic disease</td>\n",
       "      <td>21303839</td>\n",
       "      <td>ZDB-PUB-110214-19</td>\n",
       "      <td>Zebrafish deficient for Muscleblind-like 2 exh...</td>\n",
       "      <td>mbnl3</td>\n",
       "    </tr>\n",
       "    <tr>\n",
       "      <th>2373</th>\n",
       "      <td>ZDB-FISH-150901-8303</td>\n",
       "      <td>DOID:450</td>\n",
       "      <td>myotonic disease</td>\n",
       "      <td>21303839</td>\n",
       "      <td>ZDB-PUB-110214-19</td>\n",
       "      <td>Zebrafish deficient for Muscleblind-like 2 exh...</td>\n",
       "      <td>myod1</td>\n",
       "    </tr>\n",
       "    <tr>\n",
       "      <th>2374</th>\n",
       "      <td>ZDB-FISH-150901-8303</td>\n",
       "      <td>DOID:450</td>\n",
       "      <td>myotonic disease</td>\n",
       "      <td>21303839</td>\n",
       "      <td>ZDB-PUB-110214-19</td>\n",
       "      <td>Zebrafish deficient for Muscleblind-like 2 exh...</td>\n",
       "      <td>pax2a</td>\n",
       "    </tr>\n",
       "    <tr>\n",
       "      <th>2375</th>\n",
       "      <td>ZDB-FISH-150901-8303</td>\n",
       "      <td>DOID:450</td>\n",
       "      <td>myotonic disease</td>\n",
       "      <td>21303839</td>\n",
       "      <td>ZDB-PUB-110214-19</td>\n",
       "      <td>Zebrafish deficient for Muscleblind-like 2 exh...</td>\n",
       "      <td>scn4ab</td>\n",
       "    </tr>\n",
       "    <tr>\n",
       "      <th>2376</th>\n",
       "      <td>ZDB-FISH-150901-8303</td>\n",
       "      <td>DOID:450</td>\n",
       "      <td>myotonic disease</td>\n",
       "      <td>21303839</td>\n",
       "      <td>ZDB-PUB-110214-19</td>\n",
       "      <td>Zebrafish deficient for Muscleblind-like 2 exh...</td>\n",
       "      <td>tnnt2a</td>\n",
       "    </tr>\n",
       "    <tr>\n",
       "      <th>2377</th>\n",
       "      <td>ZDB-FISH-150901-22841</td>\n",
       "      <td>DOID:450</td>\n",
       "      <td>myotonic disease</td>\n",
       "      <td>21303839</td>\n",
       "      <td>ZDB-PUB-110214-19</td>\n",
       "      <td>Zebrafish deficient for Muscleblind-like 2 exh...</td>\n",
       "      <td>clcn1b</td>\n",
       "    </tr>\n",
       "    <tr>\n",
       "      <th>2378</th>\n",
       "      <td>ZDB-FISH-150901-22841</td>\n",
       "      <td>DOID:450</td>\n",
       "      <td>myotonic disease</td>\n",
       "      <td>21303839</td>\n",
       "      <td>ZDB-PUB-110214-19</td>\n",
       "      <td>Zebrafish deficient for Muscleblind-like 2 exh...</td>\n",
       "      <td>mbnl1</td>\n",
       "    </tr>\n",
       "    <tr>\n",
       "      <th>2379</th>\n",
       "      <td>ZDB-FISH-150901-22841</td>\n",
       "      <td>DOID:450</td>\n",
       "      <td>myotonic disease</td>\n",
       "      <td>21303839</td>\n",
       "      <td>ZDB-PUB-110214-19</td>\n",
       "      <td>Zebrafish deficient for Muscleblind-like 2 exh...</td>\n",
       "      <td>mbnl2</td>\n",
       "    </tr>\n",
       "    <tr>\n",
       "      <th>2380</th>\n",
       "      <td>ZDB-FISH-150901-22841</td>\n",
       "      <td>DOID:450</td>\n",
       "      <td>myotonic disease</td>\n",
       "      <td>21303839</td>\n",
       "      <td>ZDB-PUB-110214-19</td>\n",
       "      <td>Zebrafish deficient for Muscleblind-like 2 exh...</td>\n",
       "      <td>mbnl3</td>\n",
       "    </tr>\n",
       "    <tr>\n",
       "      <th>2381</th>\n",
       "      <td>ZDB-FISH-150901-22841</td>\n",
       "      <td>DOID:450</td>\n",
       "      <td>myotonic disease</td>\n",
       "      <td>21303839</td>\n",
       "      <td>ZDB-PUB-110214-19</td>\n",
       "      <td>Zebrafish deficient for Muscleblind-like 2 exh...</td>\n",
       "      <td>myod1</td>\n",
       "    </tr>\n",
       "    <tr>\n",
       "      <th>2382</th>\n",
       "      <td>ZDB-FISH-150901-22841</td>\n",
       "      <td>DOID:450</td>\n",
       "      <td>myotonic disease</td>\n",
       "      <td>21303839</td>\n",
       "      <td>ZDB-PUB-110214-19</td>\n",
       "      <td>Zebrafish deficient for Muscleblind-like 2 exh...</td>\n",
       "      <td>pax2a</td>\n",
       "    </tr>\n",
       "    <tr>\n",
       "      <th>2383</th>\n",
       "      <td>ZDB-FISH-150901-22841</td>\n",
       "      <td>DOID:450</td>\n",
       "      <td>myotonic disease</td>\n",
       "      <td>21303839</td>\n",
       "      <td>ZDB-PUB-110214-19</td>\n",
       "      <td>Zebrafish deficient for Muscleblind-like 2 exh...</td>\n",
       "      <td>scn4ab</td>\n",
       "    </tr>\n",
       "    <tr>\n",
       "      <th>2384</th>\n",
       "      <td>ZDB-FISH-150901-22841</td>\n",
       "      <td>DOID:450</td>\n",
       "      <td>myotonic disease</td>\n",
       "      <td>21303839</td>\n",
       "      <td>ZDB-PUB-110214-19</td>\n",
       "      <td>Zebrafish deficient for Muscleblind-like 2 exh...</td>\n",
       "      <td>tnnt2a</td>\n",
       "    </tr>\n",
       "    <tr>\n",
       "      <th>2385</th>\n",
       "      <td>ZDB-FISH-150901-20088</td>\n",
       "      <td>DOID:450</td>\n",
       "      <td>myotonic disease</td>\n",
       "      <td>21303839</td>\n",
       "      <td>ZDB-PUB-110214-19</td>\n",
       "      <td>Zebrafish deficient for Muscleblind-like 2 exh...</td>\n",
       "      <td>clcn1b</td>\n",
       "    </tr>\n",
       "    <tr>\n",
       "      <th>2386</th>\n",
       "      <td>ZDB-FISH-150901-20088</td>\n",
       "      <td>DOID:450</td>\n",
       "      <td>myotonic disease</td>\n",
       "      <td>21303839</td>\n",
       "      <td>ZDB-PUB-110214-19</td>\n",
       "      <td>Zebrafish deficient for Muscleblind-like 2 exh...</td>\n",
       "      <td>mbnl1</td>\n",
       "    </tr>\n",
       "    <tr>\n",
       "      <th>2387</th>\n",
       "      <td>ZDB-FISH-150901-20088</td>\n",
       "      <td>DOID:450</td>\n",
       "      <td>myotonic disease</td>\n",
       "      <td>21303839</td>\n",
       "      <td>ZDB-PUB-110214-19</td>\n",
       "      <td>Zebrafish deficient for Muscleblind-like 2 exh...</td>\n",
       "      <td>mbnl2</td>\n",
       "    </tr>\n",
       "    <tr>\n",
       "      <th>2388</th>\n",
       "      <td>ZDB-FISH-150901-20088</td>\n",
       "      <td>DOID:450</td>\n",
       "      <td>myotonic disease</td>\n",
       "      <td>21303839</td>\n",
       "      <td>ZDB-PUB-110214-19</td>\n",
       "      <td>Zebrafish deficient for Muscleblind-like 2 exh...</td>\n",
       "      <td>mbnl3</td>\n",
       "    </tr>\n",
       "    <tr>\n",
       "      <th>2389</th>\n",
       "      <td>ZDB-FISH-150901-20088</td>\n",
       "      <td>DOID:450</td>\n",
       "      <td>myotonic disease</td>\n",
       "      <td>21303839</td>\n",
       "      <td>ZDB-PUB-110214-19</td>\n",
       "      <td>Zebrafish deficient for Muscleblind-like 2 exh...</td>\n",
       "      <td>myod1</td>\n",
       "    </tr>\n",
       "    <tr>\n",
       "      <th>2390</th>\n",
       "      <td>ZDB-FISH-150901-20088</td>\n",
       "      <td>DOID:450</td>\n",
       "      <td>myotonic disease</td>\n",
       "      <td>21303839</td>\n",
       "      <td>ZDB-PUB-110214-19</td>\n",
       "      <td>Zebrafish deficient for Muscleblind-like 2 exh...</td>\n",
       "      <td>pax2a</td>\n",
       "    </tr>\n",
       "    <tr>\n",
       "      <th>2391</th>\n",
       "      <td>ZDB-FISH-150901-20088</td>\n",
       "      <td>DOID:450</td>\n",
       "      <td>myotonic disease</td>\n",
       "      <td>21303839</td>\n",
       "      <td>ZDB-PUB-110214-19</td>\n",
       "      <td>Zebrafish deficient for Muscleblind-like 2 exh...</td>\n",
       "      <td>scn4ab</td>\n",
       "    </tr>\n",
       "    <tr>\n",
       "      <th>2392</th>\n",
       "      <td>ZDB-FISH-150901-20088</td>\n",
       "      <td>DOID:450</td>\n",
       "      <td>myotonic disease</td>\n",
       "      <td>21303839</td>\n",
       "      <td>ZDB-PUB-110214-19</td>\n",
       "      <td>Zebrafish deficient for Muscleblind-like 2 exh...</td>\n",
       "      <td>tnnt2a</td>\n",
       "    </tr>\n",
       "    <tr>\n",
       "      <th>2393</th>\n",
       "      <td>ZDB-FISH-150901-1944</td>\n",
       "      <td>DOID:450</td>\n",
       "      <td>myotonic disease</td>\n",
       "      <td>21303839</td>\n",
       "      <td>ZDB-PUB-110214-19</td>\n",
       "      <td>Zebrafish deficient for Muscleblind-like 2 exh...</td>\n",
       "      <td>clcn1b</td>\n",
       "    </tr>\n",
       "    <tr>\n",
       "      <th>2394</th>\n",
       "      <td>ZDB-FISH-150901-1944</td>\n",
       "      <td>DOID:450</td>\n",
       "      <td>myotonic disease</td>\n",
       "      <td>21303839</td>\n",
       "      <td>ZDB-PUB-110214-19</td>\n",
       "      <td>Zebrafish deficient for Muscleblind-like 2 exh...</td>\n",
       "      <td>mbnl1</td>\n",
       "    </tr>\n",
       "    <tr>\n",
       "      <th>2395</th>\n",
       "      <td>ZDB-FISH-150901-1944</td>\n",
       "      <td>DOID:450</td>\n",
       "      <td>myotonic disease</td>\n",
       "      <td>21303839</td>\n",
       "      <td>ZDB-PUB-110214-19</td>\n",
       "      <td>Zebrafish deficient for Muscleblind-like 2 exh...</td>\n",
       "      <td>mbnl2</td>\n",
       "    </tr>\n",
       "    <tr>\n",
       "      <th>2396</th>\n",
       "      <td>ZDB-FISH-150901-1944</td>\n",
       "      <td>DOID:450</td>\n",
       "      <td>myotonic disease</td>\n",
       "      <td>21303839</td>\n",
       "      <td>ZDB-PUB-110214-19</td>\n",
       "      <td>Zebrafish deficient for Muscleblind-like 2 exh...</td>\n",
       "      <td>mbnl3</td>\n",
       "    </tr>\n",
       "    <tr>\n",
       "      <th>2397</th>\n",
       "      <td>ZDB-FISH-150901-1944</td>\n",
       "      <td>DOID:450</td>\n",
       "      <td>myotonic disease</td>\n",
       "      <td>21303839</td>\n",
       "      <td>ZDB-PUB-110214-19</td>\n",
       "      <td>Zebrafish deficient for Muscleblind-like 2 exh...</td>\n",
       "      <td>myod1</td>\n",
       "    </tr>\n",
       "    <tr>\n",
       "      <th>2398</th>\n",
       "      <td>ZDB-FISH-150901-1944</td>\n",
       "      <td>DOID:450</td>\n",
       "      <td>myotonic disease</td>\n",
       "      <td>21303839</td>\n",
       "      <td>ZDB-PUB-110214-19</td>\n",
       "      <td>Zebrafish deficient for Muscleblind-like 2 exh...</td>\n",
       "      <td>pax2a</td>\n",
       "    </tr>\n",
       "    <tr>\n",
       "      <th>2399</th>\n",
       "      <td>ZDB-FISH-150901-1944</td>\n",
       "      <td>DOID:450</td>\n",
       "      <td>myotonic disease</td>\n",
       "      <td>21303839</td>\n",
       "      <td>ZDB-PUB-110214-19</td>\n",
       "      <td>Zebrafish deficient for Muscleblind-like 2 exh...</td>\n",
       "      <td>scn4ab</td>\n",
       "    </tr>\n",
       "    <tr>\n",
       "      <th>2400</th>\n",
       "      <td>ZDB-FISH-150901-1944</td>\n",
       "      <td>DOID:450</td>\n",
       "      <td>myotonic disease</td>\n",
       "      <td>21303839</td>\n",
       "      <td>ZDB-PUB-110214-19</td>\n",
       "      <td>Zebrafish deficient for Muscleblind-like 2 exh...</td>\n",
       "      <td>tnnt2a</td>\n",
       "    </tr>\n",
       "  </tbody>\n",
       "</table>\n",
       "</div>"
      ],
      "text/plain": [
       "               zfin_fish_id     do_id           do_name      pmid  \\\n",
       "2369   ZDB-FISH-150901-8303  DOID:450  myotonic disease  21303839   \n",
       "2370   ZDB-FISH-150901-8303  DOID:450  myotonic disease  21303839   \n",
       "2371   ZDB-FISH-150901-8303  DOID:450  myotonic disease  21303839   \n",
       "2372   ZDB-FISH-150901-8303  DOID:450  myotonic disease  21303839   \n",
       "2373   ZDB-FISH-150901-8303  DOID:450  myotonic disease  21303839   \n",
       "2374   ZDB-FISH-150901-8303  DOID:450  myotonic disease  21303839   \n",
       "2375   ZDB-FISH-150901-8303  DOID:450  myotonic disease  21303839   \n",
       "2376   ZDB-FISH-150901-8303  DOID:450  myotonic disease  21303839   \n",
       "2377  ZDB-FISH-150901-22841  DOID:450  myotonic disease  21303839   \n",
       "2378  ZDB-FISH-150901-22841  DOID:450  myotonic disease  21303839   \n",
       "2379  ZDB-FISH-150901-22841  DOID:450  myotonic disease  21303839   \n",
       "2380  ZDB-FISH-150901-22841  DOID:450  myotonic disease  21303839   \n",
       "2381  ZDB-FISH-150901-22841  DOID:450  myotonic disease  21303839   \n",
       "2382  ZDB-FISH-150901-22841  DOID:450  myotonic disease  21303839   \n",
       "2383  ZDB-FISH-150901-22841  DOID:450  myotonic disease  21303839   \n",
       "2384  ZDB-FISH-150901-22841  DOID:450  myotonic disease  21303839   \n",
       "2385  ZDB-FISH-150901-20088  DOID:450  myotonic disease  21303839   \n",
       "2386  ZDB-FISH-150901-20088  DOID:450  myotonic disease  21303839   \n",
       "2387  ZDB-FISH-150901-20088  DOID:450  myotonic disease  21303839   \n",
       "2388  ZDB-FISH-150901-20088  DOID:450  myotonic disease  21303839   \n",
       "2389  ZDB-FISH-150901-20088  DOID:450  myotonic disease  21303839   \n",
       "2390  ZDB-FISH-150901-20088  DOID:450  myotonic disease  21303839   \n",
       "2391  ZDB-FISH-150901-20088  DOID:450  myotonic disease  21303839   \n",
       "2392  ZDB-FISH-150901-20088  DOID:450  myotonic disease  21303839   \n",
       "2393   ZDB-FISH-150901-1944  DOID:450  myotonic disease  21303839   \n",
       "2394   ZDB-FISH-150901-1944  DOID:450  myotonic disease  21303839   \n",
       "2395   ZDB-FISH-150901-1944  DOID:450  myotonic disease  21303839   \n",
       "2396   ZDB-FISH-150901-1944  DOID:450  myotonic disease  21303839   \n",
       "2397   ZDB-FISH-150901-1944  DOID:450  myotonic disease  21303839   \n",
       "2398   ZDB-FISH-150901-1944  DOID:450  myotonic disease  21303839   \n",
       "2399   ZDB-FISH-150901-1944  DOID:450  myotonic disease  21303839   \n",
       "2400   ZDB-FISH-150901-1944  DOID:450  myotonic disease  21303839   \n",
       "\n",
       "               zfin_pub                                              title  \\\n",
       "2369  ZDB-PUB-110214-19  Zebrafish deficient for Muscleblind-like 2 exh...   \n",
       "2370  ZDB-PUB-110214-19  Zebrafish deficient for Muscleblind-like 2 exh...   \n",
       "2371  ZDB-PUB-110214-19  Zebrafish deficient for Muscleblind-like 2 exh...   \n",
       "2372  ZDB-PUB-110214-19  Zebrafish deficient for Muscleblind-like 2 exh...   \n",
       "2373  ZDB-PUB-110214-19  Zebrafish deficient for Muscleblind-like 2 exh...   \n",
       "2374  ZDB-PUB-110214-19  Zebrafish deficient for Muscleblind-like 2 exh...   \n",
       "2375  ZDB-PUB-110214-19  Zebrafish deficient for Muscleblind-like 2 exh...   \n",
       "2376  ZDB-PUB-110214-19  Zebrafish deficient for Muscleblind-like 2 exh...   \n",
       "2377  ZDB-PUB-110214-19  Zebrafish deficient for Muscleblind-like 2 exh...   \n",
       "2378  ZDB-PUB-110214-19  Zebrafish deficient for Muscleblind-like 2 exh...   \n",
       "2379  ZDB-PUB-110214-19  Zebrafish deficient for Muscleblind-like 2 exh...   \n",
       "2380  ZDB-PUB-110214-19  Zebrafish deficient for Muscleblind-like 2 exh...   \n",
       "2381  ZDB-PUB-110214-19  Zebrafish deficient for Muscleblind-like 2 exh...   \n",
       "2382  ZDB-PUB-110214-19  Zebrafish deficient for Muscleblind-like 2 exh...   \n",
       "2383  ZDB-PUB-110214-19  Zebrafish deficient for Muscleblind-like 2 exh...   \n",
       "2384  ZDB-PUB-110214-19  Zebrafish deficient for Muscleblind-like 2 exh...   \n",
       "2385  ZDB-PUB-110214-19  Zebrafish deficient for Muscleblind-like 2 exh...   \n",
       "2386  ZDB-PUB-110214-19  Zebrafish deficient for Muscleblind-like 2 exh...   \n",
       "2387  ZDB-PUB-110214-19  Zebrafish deficient for Muscleblind-like 2 exh...   \n",
       "2388  ZDB-PUB-110214-19  Zebrafish deficient for Muscleblind-like 2 exh...   \n",
       "2389  ZDB-PUB-110214-19  Zebrafish deficient for Muscleblind-like 2 exh...   \n",
       "2390  ZDB-PUB-110214-19  Zebrafish deficient for Muscleblind-like 2 exh...   \n",
       "2391  ZDB-PUB-110214-19  Zebrafish deficient for Muscleblind-like 2 exh...   \n",
       "2392  ZDB-PUB-110214-19  Zebrafish deficient for Muscleblind-like 2 exh...   \n",
       "2393  ZDB-PUB-110214-19  Zebrafish deficient for Muscleblind-like 2 exh...   \n",
       "2394  ZDB-PUB-110214-19  Zebrafish deficient for Muscleblind-like 2 exh...   \n",
       "2395  ZDB-PUB-110214-19  Zebrafish deficient for Muscleblind-like 2 exh...   \n",
       "2396  ZDB-PUB-110214-19  Zebrafish deficient for Muscleblind-like 2 exh...   \n",
       "2397  ZDB-PUB-110214-19  Zebrafish deficient for Muscleblind-like 2 exh...   \n",
       "2398  ZDB-PUB-110214-19  Zebrafish deficient for Muscleblind-like 2 exh...   \n",
       "2399  ZDB-PUB-110214-19  Zebrafish deficient for Muscleblind-like 2 exh...   \n",
       "2400  ZDB-PUB-110214-19  Zebrafish deficient for Muscleblind-like 2 exh...   \n",
       "\n",
       "        gene  \n",
       "2369  clcn1b  \n",
       "2370   mbnl1  \n",
       "2371   mbnl2  \n",
       "2372   mbnl3  \n",
       "2373   myod1  \n",
       "2374   pax2a  \n",
       "2375  scn4ab  \n",
       "2376  tnnt2a  \n",
       "2377  clcn1b  \n",
       "2378   mbnl1  \n",
       "2379   mbnl2  \n",
       "2380   mbnl3  \n",
       "2381   myod1  \n",
       "2382   pax2a  \n",
       "2383  scn4ab  \n",
       "2384  tnnt2a  \n",
       "2385  clcn1b  \n",
       "2386   mbnl1  \n",
       "2387   mbnl2  \n",
       "2388   mbnl3  \n",
       "2389   myod1  \n",
       "2390   pax2a  \n",
       "2391  scn4ab  \n",
       "2392  tnnt2a  \n",
       "2393  clcn1b  \n",
       "2394   mbnl1  \n",
       "2395   mbnl2  \n",
       "2396   mbnl3  \n",
       "2397   myod1  \n",
       "2398   pax2a  \n",
       "2399  scn4ab  \n",
       "2400  tnnt2a  "
      ]
     },
     "execution_count": 89,
     "metadata": {},
     "output_type": "execute_result"
    }
   ],
   "source": [
    "zfin_disease[zfin_disease['title'] == 'Zebrafish deficient for Muscleblind-like 2 exhibit features of myotonic dystrophy']"
   ]
  },
  {
   "source": [
    "Export data to tsv file."
   ],
   "cell_type": "markdown",
   "metadata": {}
  },
  {
   "cell_type": "code",
   "execution_count": 90,
   "metadata": {},
   "outputs": [],
   "source": [
    "zfin_disease.to_csv('zebrafish_disease_models.tsv', sep='\\t')"
   ]
  }
 ],
 "metadata": {
  "kernelspec": {
   "name": "python3",
   "display_name": "Python 3"
  },
  "language_info": {
   "codemirror_mode": {
    "name": "ipython",
    "version": 3
   },
   "file_extension": ".py",
   "mimetype": "text/x-python",
   "name": "python",
   "nbconvert_exporter": "python",
   "pygments_lexer": "ipython3",
   "version": "3.6.10-final"
  }
 },
 "nbformat": 4,
 "nbformat_minor": 2
}